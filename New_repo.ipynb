{
  "nbformat": 4,
  "nbformat_minor": 0,
  "metadata": {
    "colab": {
      "provenance": [],
      "authorship_tag": "ABX9TyM69fWHttWC2RECTjK2LNyk",
      "include_colab_link": true
    },
    "kernelspec": {
      "name": "python3",
      "display_name": "Python 3"
    },
    "language_info": {
      "name": "python"
    }
  },
  "cells": [
    {
      "cell_type": "markdown",
      "metadata": {
        "id": "view-in-github",
        "colab_type": "text"
      },
      "source": [
        "<a href=\"https://colab.research.google.com/github/JAR1994/CWW-Teach-African-CLI-Quiz-Application/blob/main/New_repo.ipynb\" target=\"_parent\"><img src=\"https://colab.research.google.com/assets/colab-badge.svg\" alt=\"Open In Colab\"/></a>"
      ]
    },
    {
      "cell_type": "code",
      "source": [
        "# Creating a tuple containing daily todos\n",
        "todo_list = (\n",
        "    \"Complete Python practice problems\",\n",
        "    \"Attended my Python class on CWW Teach Africa at 5 PM\",\n",
        "    \"Review customer complains\",\n",
        "    \"Work on Power BI visualization project on Datacamp\",\n",
        "    \"Read a chapter from a book,Title Public Speaking\"\n",
        ")\n",
        "\n",
        "# Retrieve a particular day's todo using indexing\n",
        "print(f\"Todo for today: {todo_list[0]}\")\n",
        "\n",
        "# Retrieve all todos using iteration\n",
        "print(\"\\nAll todos for the day:\")\n",
        "for todo in todo_list:\n",
        "    print(f\"- {todo}\")\n",
        "\n",
        "   # Creating a dictionary with bio info\n",
        "bio_info = {\n",
        "    \"name\": \"Rukaya Aino Jimoh\",\n",
        "    \"age\": 30,\n",
        "    \"profession\": \"Data Analyst\",\n",
        "    \"experience\": \"4 years\",\n",
        "    \"skills\": [\"Python\",\"Go\",\"Java\",\"Javascript\",\"Excel\",\"Power BI\", \"Data Analysis\", \"Customer Communication\"]\n",
        "}\n",
        "\n",
        "\n",
        "    # Looping through the bio dictionary to print keys and values\n",
        "for key, value in bio_info.items():\n",
        "    if key == \"skills\":\n",
        "        print(\"\\nMy Skills are:\")\n",
        "        for i, skill in enumerate(value, 1):\n",
        "            print(f\"{i}- {skill}\")\n",
        "    else:\n",
        "        print(f\"My {key.capitalize()} is {value}\")\n",
        "\n",
        "# List of numbers from 1 to 50\n",
        "numbers = list(range(9, 51))\n",
        "\n",
        "# Using lambda within a list comprehension to double each number\n",
        "doubled_numbers = [(lambda x: x * 1)(num) for num in numbers]\n",
        "\n",
        "# Print the doubled numbers\n",
        "print(doubled_numbers)\n",
        "\n",
        "\n",
        "\n",
        "\n"
      ],
      "metadata": {
        "colab": {
          "base_uri": "https://localhost:8080/"
        },
        "id": "moNcasN6dmdv",
        "outputId": "c60eb66f-d9de-4bf0-bc4c-e498245e3348"
      },
      "execution_count": 18,
      "outputs": [
        {
          "output_type": "stream",
          "name": "stdout",
          "text": [
            "Todo for today: Complete Python practice problems\n",
            "\n",
            "All todos for the day:\n",
            "- Complete Python practice problems\n",
            "- Attended my Python class on CWW Teach Africa at 5 PM\n",
            "- Review customer complains\n",
            "- Work on Power BI visualization project on Datacamp\n",
            "- Read a chapter from a book,Title Public Speaking\n",
            "My My bioname is Rukaya Aino Jimoh\n",
            "My Age is 30\n",
            "My Profession is Data Analyst\n",
            "My Experience is 4 years\n",
            "\n",
            "My Skills are:\n",
            "1- Python\n",
            "2- Go\n",
            "3- Java\n",
            "4- Javascript\n",
            "5- Excel\n",
            "6- Power BI\n",
            "7- Data Analysis\n",
            "8- Customer Communication\n",
            "[9, 10, 11, 12, 13, 14, 15, 16, 17, 18, 19, 20, 21, 22, 23, 24, 25, 26, 27, 28, 29, 30, 31, 32, 33, 34, 35, 36, 37, 38, 39, 40, 41, 42, 43, 44, 45, 46, 47, 48, 49, 50]\n"
          ]
        }
      ]
    }
  ]
}