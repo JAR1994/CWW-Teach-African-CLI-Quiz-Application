{
  "nbformat": 4,
  "nbformat_minor": 0,
  "metadata": {
    "colab": {
      "provenance": [],
      "authorship_tag": "ABX9TyNEvygCqCXQcEW24Db7+gH+",
      "include_colab_link": true
    },
    "kernelspec": {
      "name": "python3",
      "display_name": "Python 3"
    },
    "language_info": {
      "name": "python"
    }
  },
  "cells": [
    {
      "cell_type": "markdown",
      "metadata": {
        "id": "view-in-github",
        "colab_type": "text"
      },
      "source": [
        "<a href=\"https://colab.research.google.com/github/JAR1994/CWW-Teach-African-CLI-Quiz-Application/blob/main/Rukaya_Aino_Jimoh_Project.ipynb\" target=\"_parent\"><img src=\"https://colab.research.google.com/assets/colab-badge.svg\" alt=\"Open In Colab\"/></a>"
      ]
    },
    {
      "cell_type": "code",
      "execution_count": null,
      "metadata": {
        "id": "7AMvnQ5tljZH"
      },
      "outputs": [],
      "source": []
    },
    {
      "cell_type": "code",
      "source": [
        "import random  # For shuffling questions\n",
        "\n",
        "# Function to set up questions for the quiz\n",
        "def get_questions():\n",
        "    return [\n",
        "        {\n",
        "            \"question\": \"What is the capital of Nigeria?\",\n",
        "            \"options\": [\"A. Abuja\", \"B. Rome\", \"C. Berlin\", \"D. Madrid\"],\n",
        "            \"answer\": \"A\"\n",
        "        },\n",
        "        {\n",
        "            \"question\": \"What is 4 + 2?\",\n",
        "            \"options\": [\"A. 3\", \"B. 6\", \"C. 5\", \"D. 7\"],\n",
        "            \"answer\": \"B\"\n",
        "        },\n",
        "        {\n",
        "            \"question\": \"Who won US Presidential Election?\",\n",
        "            \"options\": [\"A. Robert Kennedy\", \"B. Jill Stein\", \"C. Kamela Harris\", \"D. Donald Trump\"],\n",
        "            \"answer\": \"D\"\n",
        "        },\n",
        "        {\n",
        "            \"question\": \"What year was Nigeria last general election conducted?\",\n",
        "            \"options\": [\"A. 2019\", \"B. 2024\", \"C. 2023\", \"D. 2015\"],\n",
        "            \"answer\": \"C\"\n",
        "        }\n",
        "    ]\n",
        "\n",
        "# Function to display a question and capture the user's answer\n",
        "def ask_question(question):\n",
        "    print(\"\\n\" + question[\"question\"])\n",
        "    for option in question[\"options\"]:\n",
        "        print(option)\n",
        "    answer = input(\"Your answer (A, B, C, or D): \").strip().upper()\n",
        "    return answer == question[\"answer\"]\n",
        "\n",
        "# Function to calculate and display results\n",
        "def show_results(score, total_questions, pass_mark):\n",
        "    print(f\"\\nYou scored {score} out of {total_questions}.\")\n",
        "    if score >= pass_mark:\n",
        "        print(\"Congratulations! You passed the quiz.\")\n",
        "    else:\n",
        "        print(\"Unfortunately, you did not pass. Try again!\")\n",
        "\n",
        "# Main function to run the quiz\n",
        "def run_quiz():\n",
        "    questions = get_questions()\n",
        "    random.shuffle(questions)  # Shuffle questions for variety\n",
        "    score = 0\n",
        "    pass_mark = 3  # Set a pass mark\n",
        "\n",
        "    for question in questions:\n",
        "        if ask_question(question):\n",
        "            score += 1\n",
        "\n",
        "    # Display the final results\n",
        "    show_results(score, len(questions), pass_mark)\n",
        "\n",
        "# Run the quiz\n",
        "if __name__ == \"__main__\":\n",
        "    run_quiz()"
      ],
      "metadata": {
        "id": "zvDPR7gLf9OX",
        "colab": {
          "base_uri": "https://localhost:8080/"
        },
        "outputId": "484c0e0e-bbbd-46f3-f0ff-dc66cd47a969"
      },
      "execution_count": null,
      "outputs": [
        {
          "output_type": "stream",
          "name": "stdout",
          "text": [
            "\n",
            "What year was Nigeria last general election was conducted'?\n",
            "A. 2019\n",
            "B. 2024\n",
            "C. 2023\n",
            "D. 2015\n",
            "Your answer (A, B, C, or D): B\n",
            "\n",
            "Who won US Presidential Election?\n",
            "A. Robert Kennedy\n",
            "B. Jill Stein\n",
            "C. Kamela Harris\n",
            "D. Donald Trump\n",
            "Your answer (A, B, C, or D): D\n",
            "\n",
            "What is the capital of Nigeria?\n",
            "A. Abuja\n",
            "B. Rome\n",
            "C. Berlin\n",
            "D. Madrid\n",
            "Your answer (A, B, C, or D): a\n",
            "\n",
            "What is 4 + 2?\n",
            "A. 3\n",
            "B. 6\n",
            "C. 5\n",
            "D. 6\n",
            "Your answer (A, B, C, or D): b\n",
            "\n",
            "You scored 3 out of 4.\n",
            "Congratulations! You passed the quiz.\n"
          ]
        }
      ]
    }
  ]
}